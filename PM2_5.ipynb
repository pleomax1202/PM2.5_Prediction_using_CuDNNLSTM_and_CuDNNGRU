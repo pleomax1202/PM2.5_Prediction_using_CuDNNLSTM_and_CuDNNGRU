{
  "nbformat": 4,
  "nbformat_minor": 0,
  "metadata": {
    "colab": {
      "name": "PM2.5.ipynb",
      "provenance": []
    },
    "kernelspec": {
      "name": "python3",
      "display_name": "Python 3"
    },
    "accelerator": "GPU"
  },
  "cells": [
    {
      "cell_type": "code",
      "metadata": {
        "id": "B5o1_GHpSJV4",
        "colab": {
          "base_uri": "https://localhost:8080/",
          "height": 35
        },
        "outputId": "5ff8ea4e-0ea7-4da0-9b0a-2ac950a62b93"
      },
      "source": [
        "import tensorflow as tf\n",
        "from tensorflow import keras\n",
        "from tensorflow.keras import layers\n",
        "from tensorflow.keras.utils import plot_model\n",
        "import pandas as pd\n",
        "from keras.callbacks import EarlyStopping\n",
        "import numpy as np\n",
        "from sklearn import preprocessing\n",
        "from sklearn.metrics import mean_squared_error\n",
        "from sklearn.model_selection import train_test_split\n",
        "from tensorflow.compat.v1.keras.layers import CuDNNLSTM,CuDNNGRU\n",
        "from tensorflow.keras.layers import BatchNormalization\n",
        "import os\n",
        "import datetime\n",
        "from tensorflow.keras.callbacks import EarlyStopping\n",
        "import matplotlib.pyplot as plt"
      ],
      "execution_count": null,
      "outputs": [
        {
          "output_type": "stream",
          "text": [
            "Using TensorFlow backend.\n"
          ],
          "name": "stderr"
        }
      ]
    },
    {
      "cell_type": "code",
      "metadata": {
        "id": "DwDxB4eRSyfs"
      },
      "source": [
        "data_path='/content/drive/My Drive/Colab Notebooks/AI_HW/Dataset/dali.csv'"
      ],
      "execution_count": null,
      "outputs": []
    },
    {
      "cell_type": "code",
      "metadata": {
        "id": "PlVIm2xkT_dY"
      },
      "source": [
        "dali=pd.read_csv(data_path)"
      ],
      "execution_count": null,
      "outputs": []
    },
    {
      "cell_type": "code",
      "metadata": {
        "id": "m7PswZVwU0BI"
      },
      "source": [
        "np_dali=dali.values"
      ],
      "execution_count": null,
      "outputs": []
    },
    {
      "cell_type": "code",
      "metadata": {
        "id": "0SQFWbqnUBwR"
      },
      "source": [
        "dali_feature=np_dali[:,1:]"
      ],
      "execution_count": null,
      "outputs": []
    },
    {
      "cell_type": "code",
      "metadata": {
        "id": "jRAsZTwPUtZN"
      },
      "source": [
        "dali_pm25=np_dali[:,:1]"
      ],
      "execution_count": null,
      "outputs": []
    },
    {
      "cell_type": "code",
      "metadata": {
        "id": "9LZY_oUBU0tS",
        "colab": {
          "base_uri": "https://localhost:8080/",
          "height": 235
        },
        "outputId": "597a0bbc-0cad-4e5b-faeb-06efe1ea145e"
      },
      "source": [
        "dali_feature[:6,:]"
      ],
      "execution_count": null,
      "outputs": [
        {
          "output_type": "execute_result",
          "data": {
            "text/plain": [
              "array([[ 96.  ,   1.08,   3.7 ,   3.4 ,  28.  ,  33.  ,  61.  ,  81.  ,\n",
              "         14.  , 254.  ,   1.  ],\n",
              "       [ 92.  ,   1.1 ,   4.1 ,   4.3 ,  28.  ,  32.  ,  61.  ,  79.  ,\n",
              "         14.  , 134.  ,   1.2 ],\n",
              "       [ 79.  ,   0.95,   3.6 ,   2.8 ,  21.  ,  24.  ,  45.  ,  82.  ,\n",
              "         13.  , 239.  ,   0.9 ],\n",
              "       [ 82.  ,   0.9 ,   3.5 ,   2.4 ,  21.  ,  24.  ,  45.  ,  83.  ,\n",
              "         12.  , 175.  ,   0.8 ],\n",
              "       [ 73.  ,   0.8 ,   3.4 ,   2.3 ,  19.  ,  24.  ,  42.  ,  83.  ,\n",
              "         12.  , 171.  ,   0.8 ],\n",
              "       [ 63.  ,   0.81,   3.5 ,   2.6 ,  23.  ,  23.  ,  46.  ,  84.  ,\n",
              "         12.  ,  94.  ,   0.6 ]])"
            ]
          },
          "metadata": {
            "tags": []
          },
          "execution_count": 7
        }
      ]
    },
    {
      "cell_type": "code",
      "metadata": {
        "id": "HSUlCMY0VjMp"
      },
      "source": [
        "test=dali.iloc[:8,:]"
      ],
      "execution_count": null,
      "outputs": []
    },
    {
      "cell_type": "code",
      "metadata": {
        "id": "A5Z-9UMTWqGF"
      },
      "source": [
        "look_back=12\n",
        "pre_time=1\n",
        "shift=1"
      ],
      "execution_count": null,
      "outputs": []
    },
    {
      "cell_type": "code",
      "metadata": {
        "id": "2APDLp_YpA_h"
      },
      "source": [
        "def create_dataset(dataset,look_back=12,pre_time=1,shift=1):\n",
        "  dataX,dataY=[],[]\n",
        "  for i in range(0,len(dataset)-look_back-pre_time+1,shift):\n",
        "    dataX.append(dataset[i:i+look_back,1:])\n",
        "    dataY.append(dataset[i+look_back:i+look_back+pre_time,:1])\n",
        "  return np.array(dataX),np.array(dataY)"
      ],
      "execution_count": null,
      "outputs": []
    },
    {
      "cell_type": "code",
      "metadata": {
        "id": "cf8-DxwJpTtn"
      },
      "source": [
        "def create_testdataset(dataset,look_back=12, shift=1):\n",
        "  dataX = []\n",
        "  for i in range(0,dataset.shape[0]-look_back+1,shift):\n",
        "    dataX.append(dataset[i:i+look_back])\n",
        "  return np.array(dataX)"
      ],
      "execution_count": null,
      "outputs": []
    },
    {
      "cell_type": "code",
      "metadata": {
        "id": "S3S515Z2pUSO"
      },
      "source": [
        "dali_scale=preprocessing.scale(dali.iloc[:,1:])"
      ],
      "execution_count": null,
      "outputs": []
    },
    {
      "cell_type": "code",
      "metadata": {
        "id": "xR3okUqxHc5-"
      },
      "source": [
        "DALI = np.hstack([dali_pm25,dali_scale])"
      ],
      "execution_count": null,
      "outputs": []
    },
    {
      "cell_type": "code",
      "metadata": {
        "id": "0JmNR4cmpjRQ"
      },
      "source": [
        "train,test=train_test_split(DALI,test_size=0.15,shuffle=False)"
      ],
      "execution_count": null,
      "outputs": []
    },
    {
      "cell_type": "code",
      "metadata": {
        "id": "xi-geoe2pngN"
      },
      "source": [
        "traindata_x,traindata_y=create_dataset(train,look_back,pre_time, shift)\n",
        "testdata_x,testdata_y=create_dataset(train,look_back,pre_time, shift=1)"
      ],
      "execution_count": null,
      "outputs": []
    },
    {
      "cell_type": "code",
      "metadata": {
        "id": "-b-QPccmrvhL",
        "colab": {
          "base_uri": "https://localhost:8080/",
          "height": 35
        },
        "outputId": "2bf2779a-04bd-4483-a6c0-b53abf0b8051"
      },
      "source": [
        "testdata_y[0]"
      ],
      "execution_count": null,
      "outputs": [
        {
          "output_type": "execute_result",
          "data": {
            "text/plain": [
              "array([[52.]])"
            ]
          },
          "metadata": {
            "tags": []
          },
          "execution_count": 56
        }
      ]
    },
    {
      "cell_type": "markdown",
      "metadata": {
        "id": "zdAml2viphiM"
      },
      "source": [
        "# Model1"
      ]
    },
    {
      "cell_type": "code",
      "metadata": {
        "id": "TdiBtM5_9NMx"
      },
      "source": [
        "inputs=keras.Input(shape=(look_back,11),name='Input')\n",
        "lstm_hidden1=CuDNNLSTM(48,return_sequences=True,name='lstm_hidden1')(inputs)\n",
        "lstm_hidden2=CuDNNLSTM(48,name='lstm_hidden2')(lstm_hidden1)\n",
        "dence_hidden3=layers.Dense(12,activation='relu',name='dence_hidden3')(lstm_hidden2)\n",
        "outputs=layers.Dense(1,activation='relu',name='Output')(dence_hidden3)\n",
        "model=keras.Model(inputs=inputs,outputs=outputs)"
      ],
      "execution_count": null,
      "outputs": []
    },
    {
      "cell_type": "code",
      "metadata": {
        "id": "ydYcsS059jXw",
        "colab": {
          "base_uri": "https://localhost:8080/",
          "height": 345
        },
        "outputId": "e16fafe5-4bf8-4695-e0aa-44a1127c2999"
      },
      "source": [
        "model.summary()"
      ],
      "execution_count": null,
      "outputs": [
        {
          "output_type": "stream",
          "text": [
            "Model: \"model\"\n",
            "_________________________________________________________________\n",
            "Layer (type)                 Output Shape              Param #   \n",
            "=================================================================\n",
            "Input (InputLayer)           [(None, 12, 11)]          0         \n",
            "_________________________________________________________________\n",
            "lstm_hidden1 (CuDNNLSTM)     (None, 12, 48)            11712     \n",
            "_________________________________________________________________\n",
            "lstm_hidden2 (CuDNNLSTM)     (None, 48)                18816     \n",
            "_________________________________________________________________\n",
            "dence_hidden3 (Dense)        (None, 12)                588       \n",
            "_________________________________________________________________\n",
            "Output (Dense)               (None, 1)                 13        \n",
            "=================================================================\n",
            "Total params: 31,129\n",
            "Trainable params: 31,129\n",
            "Non-trainable params: 0\n",
            "_________________________________________________________________\n"
          ],
          "name": "stdout"
        }
      ]
    },
    {
      "cell_type": "code",
      "metadata": {
        "id": "69xuy9NZ9k6q",
        "colab": {
          "base_uri": "https://localhost:8080/",
          "height": 466
        },
        "outputId": "1cb0d874-f5a2-4349-d3a5-2239a23df8e6"
      },
      "source": [
        "plot_model(model)"
      ],
      "execution_count": null,
      "outputs": [
        {
          "output_type": "execute_result",
          "data": {
            "image/png": "[encoded data removed]",
            "text/plain": [
              "<IPython.core.display.Image object>"
            ]
          },
          "metadata": {
            "tags": []
          },
          "execution_count": 19
        }
      ]
    },
    {
      "cell_type": "code",
      "metadata": {
        "id": "eLemdi2s9mG6"
      },
      "source": [
        "%load_ext tensorboard"
      ],
      "execution_count": null,
      "outputs": []
    },
    {
      "cell_type": "code",
      "metadata": {
        "id": "5kUYT9Zh9odO"
      },
      "source": [
        "earlystop=EarlyStopping(patience=10)\n",
        "logdir=os.path.join(\"logs\",datetime.datetime.now().strftime(\"%m%Y%d-%H%M%S\"))\n",
        "tensorboard_callback=tf.keras.callbacks.TensorBoard(logdir,histogram_freq=1)\n",
        "callbacks=[earlystop,tensorboard_callback]"
      ],
      "execution_count": null,
      "outputs": []
    },
    {
      "cell_type": "code",
      "metadata": {
        "id": "ojeqdMi89un6",
        "colab": {
          "base_uri": "https://localhost:8080/",
          "height": 490
        },
        "outputId": "54e41361-21e1-407d-ab3a-283c7aaf5fbd"
      },
      "source": [
        "model.compile(loss='mean_squared_error',optimizer='Adam',metrics=['mse'])\n",
        "history = model.fit(traindata_x,traindata_y.reshape(traindata_y.shape[0]*traindata_y.shape[1],1), validation_split=0.2, epochs=10000,callbacks=callbacks,batch_size=24)"
      ],
      "execution_count": null,
      "outputs": [
        {
          "output_type": "stream",
          "text": [
            "Epoch 1/10000\n",
            "885/885 [==============================] - 10s 11ms/step - loss: 199.0806 - mse: 199.0806 - val_loss: 66.9265 - val_mse: 66.9265\n",
            "Epoch 2/10000\n",
            "885/885 [==============================] - 9s 10ms/step - loss: 69.4150 - mse: 69.4150 - val_loss: 57.1161 - val_mse: 57.1161\n",
            "Epoch 3/10000\n",
            "885/885 [==============================] - 9s 10ms/step - loss: 61.6079 - mse: 61.6079 - val_loss: 49.7527 - val_mse: 49.7527\n",
            "Epoch 4/10000\n",
            "885/885 [==============================] - 9s 10ms/step - loss: 57.1061 - mse: 57.1061 - val_loss: 61.8610 - val_mse: 61.8610\n",
            "Epoch 5/10000\n",
            "885/885 [==============================] - 9s 10ms/step - loss: 53.3228 - mse: 53.3228 - val_loss: 62.7687 - val_mse: 62.7687\n",
            "Epoch 6/10000\n",
            "885/885 [==============================] - 9s 10ms/step - loss: 49.8579 - mse: 49.8579 - val_loss: 69.0689 - val_mse: 69.0689\n",
            "Epoch 7/10000\n",
            "885/885 [==============================] - 9s 10ms/step - loss: 46.8783 - mse: 46.8783 - val_loss: 66.7670 - val_mse: 66.7670\n",
            "Epoch 8/10000\n",
            "885/885 [==============================] - 9s 10ms/step - loss: 44.1901 - mse: 44.1901 - val_loss: 66.8198 - val_mse: 66.8198\n",
            "Epoch 9/10000\n",
            "885/885 [==============================] - 9s 10ms/step - loss: 42.0952 - mse: 42.0952 - val_loss: 60.6707 - val_mse: 60.6707\n",
            "Epoch 10/10000\n",
            "885/885 [==============================] - 9s 10ms/step - loss: 40.0732 - mse: 40.0732 - val_loss: 62.7518 - val_mse: 62.7518\n",
            "Epoch 11/10000\n",
            "885/885 [==============================] - 9s 10ms/step - loss: 37.7566 - mse: 37.7566 - val_loss: 64.4968 - val_mse: 64.4968\n",
            "Epoch 12/10000\n",
            "885/885 [==============================] - 9s 10ms/step - loss: 36.1181 - mse: 36.1181 - val_loss: 61.3512 - val_mse: 61.3512\n",
            "Epoch 13/10000\n",
            "885/885 [==============================] - 9s 10ms/step - loss: 34.8353 - mse: 34.8353 - val_loss: 66.1917 - val_mse: 66.1917\n"
          ],
          "name": "stdout"
        }
      ]
    },
    {
      "cell_type": "code",
      "metadata": {
        "id": "HwxWJWO59wXA"
      },
      "source": [
        "#%tensorboard --logdir logs"
      ],
      "execution_count": null,
      "outputs": []
    },
    {
      "cell_type": "code",
      "metadata": {
        "id": "uyqZaAOU_XnT"
      },
      "source": [
        "pre_dataframe=pd.DataFrame(model.predict(testdata_x).reshape(-1),columns=['pre'])"
      ],
      "execution_count": null,
      "outputs": []
    },
    {
      "cell_type": "code",
      "metadata": {
        "id": "x-yk6PEHj8GD",
        "colab": {
          "base_uri": "https://localhost:8080/",
          "height": 407
        },
        "outputId": "4c7f7a89-219e-4573-a2e2-5a2c70e0c29b"
      },
      "source": [
        "pre_dataframe"
      ],
      "execution_count": null,
      "outputs": [
        {
          "output_type": "execute_result",
          "data": {
            "text/html": [
              "<div>\n",
              "<style scoped>\n",
              "    .dataframe tbody tr th:only-of-type {\n",
              "        vertical-align: middle;\n",
              "    }\n",
              "\n",
              "    .dataframe tbody tr th {\n",
              "        vertical-align: top;\n",
              "    }\n",
              "\n",
              "    .dataframe thead th {\n",
              "        text-align: right;\n",
              "    }\n",
              "</style>\n",
              "<table border=\"1\" class=\"dataframe\">\n",
              "  <thead>\n",
              "    <tr style=\"text-align: right;\">\n",
              "      <th></th>\n",
              "      <th>pre</th>\n",
              "    </tr>\n",
              "  </thead>\n",
              "  <tbody>\n",
              "    <tr>\n",
              "      <th>0</th>\n",
              "      <td>49.519230</td>\n",
              "    </tr>\n",
              "    <tr>\n",
              "      <th>1</th>\n",
              "      <td>46.115864</td>\n",
              "    </tr>\n",
              "    <tr>\n",
              "      <th>2</th>\n",
              "      <td>41.718269</td>\n",
              "    </tr>\n",
              "    <tr>\n",
              "      <th>3</th>\n",
              "      <td>46.778812</td>\n",
              "    </tr>\n",
              "    <tr>\n",
              "      <th>4</th>\n",
              "      <td>44.329662</td>\n",
              "    </tr>\n",
              "    <tr>\n",
              "      <th>...</th>\n",
              "      <td>...</td>\n",
              "    </tr>\n",
              "    <tr>\n",
              "      <th>26543</th>\n",
              "      <td>16.519283</td>\n",
              "    </tr>\n",
              "    <tr>\n",
              "      <th>26544</th>\n",
              "      <td>11.561484</td>\n",
              "    </tr>\n",
              "    <tr>\n",
              "      <th>26545</th>\n",
              "      <td>13.785773</td>\n",
              "    </tr>\n",
              "    <tr>\n",
              "      <th>26546</th>\n",
              "      <td>17.059502</td>\n",
              "    </tr>\n",
              "    <tr>\n",
              "      <th>26547</th>\n",
              "      <td>15.344467</td>\n",
              "    </tr>\n",
              "  </tbody>\n",
              "</table>\n",
              "<p>26548 rows × 1 columns</p>\n",
              "</div>"
            ],
            "text/plain": [
              "             pre\n",
              "0      49.519230\n",
              "1      46.115864\n",
              "2      41.718269\n",
              "3      46.778812\n",
              "4      44.329662\n",
              "...          ...\n",
              "26543  16.519283\n",
              "26544  11.561484\n",
              "26545  13.785773\n",
              "26546  17.059502\n",
              "26547  15.344467\n",
              "\n",
              "[26548 rows x 1 columns]"
            ]
          },
          "metadata": {
            "tags": []
          },
          "execution_count": 58
        }
      ]
    },
    {
      "cell_type": "code",
      "metadata": {
        "id": "xO7nBr3n_Z0M"
      },
      "source": [
        "compare=pd.concat([pre_dataframe,pd.DataFrame(testdata_y.reshape(-1),columns=['act'])],axis=1)"
      ],
      "execution_count": null,
      "outputs": []
    },
    {
      "cell_type": "code",
      "metadata": {
        "id": "E-9yaFUPvYQ1",
        "colab": {
          "base_uri": "https://localhost:8080/",
          "height": 407
        },
        "outputId": "bba4eea1-5ec4-4aed-eb58-0d72c1b17b45"
      },
      "source": [
        "compare"
      ],
      "execution_count": null,
      "outputs": [
        {
          "output_type": "execute_result",
          "data": {
            "text/html": [
              "<div>\n",
              "<style scoped>\n",
              "    .dataframe tbody tr th:only-of-type {\n",
              "        vertical-align: middle;\n",
              "    }\n",
              "\n",
              "    .dataframe tbody tr th {\n",
              "        vertical-align: top;\n",
              "    }\n",
              "\n",
              "    .dataframe thead th {\n",
              "        text-align: right;\n",
              "    }\n",
              "</style>\n",
              "<table border=\"1\" class=\"dataframe\">\n",
              "  <thead>\n",
              "    <tr style=\"text-align: right;\">\n",
              "      <th></th>\n",
              "      <th>pre</th>\n",
              "      <th>act</th>\n",
              "    </tr>\n",
              "  </thead>\n",
              "  <tbody>\n",
              "    <tr>\n",
              "      <th>0</th>\n",
              "      <td>49.519230</td>\n",
              "      <td>52.0</td>\n",
              "    </tr>\n",
              "    <tr>\n",
              "      <th>1</th>\n",
              "      <td>46.115864</td>\n",
              "      <td>44.0</td>\n",
              "    </tr>\n",
              "    <tr>\n",
              "      <th>2</th>\n",
              "      <td>41.718269</td>\n",
              "      <td>47.0</td>\n",
              "    </tr>\n",
              "    <tr>\n",
              "      <th>3</th>\n",
              "      <td>46.778812</td>\n",
              "      <td>41.0</td>\n",
              "    </tr>\n",
              "    <tr>\n",
              "      <th>4</th>\n",
              "      <td>44.329662</td>\n",
              "      <td>43.0</td>\n",
              "    </tr>\n",
              "    <tr>\n",
              "      <th>...</th>\n",
              "      <td>...</td>\n",
              "      <td>...</td>\n",
              "    </tr>\n",
              "    <tr>\n",
              "      <th>26543</th>\n",
              "      <td>16.519283</td>\n",
              "      <td>6.0</td>\n",
              "    </tr>\n",
              "    <tr>\n",
              "      <th>26544</th>\n",
              "      <td>11.561484</td>\n",
              "      <td>6.0</td>\n",
              "    </tr>\n",
              "    <tr>\n",
              "      <th>26545</th>\n",
              "      <td>13.785773</td>\n",
              "      <td>5.0</td>\n",
              "    </tr>\n",
              "    <tr>\n",
              "      <th>26546</th>\n",
              "      <td>17.059502</td>\n",
              "      <td>8.0</td>\n",
              "    </tr>\n",
              "    <tr>\n",
              "      <th>26547</th>\n",
              "      <td>15.344467</td>\n",
              "      <td>10.0</td>\n",
              "    </tr>\n",
              "  </tbody>\n",
              "</table>\n",
              "<p>26548 rows × 2 columns</p>\n",
              "</div>"
            ],
            "text/plain": [
              "             pre   act\n",
              "0      49.519230  52.0\n",
              "1      46.115864  44.0\n",
              "2      41.718269  47.0\n",
              "3      46.778812  41.0\n",
              "4      44.329662  43.0\n",
              "...          ...   ...\n",
              "26543  16.519283   6.0\n",
              "26544  11.561484   6.0\n",
              "26545  13.785773   5.0\n",
              "26546  17.059502   8.0\n",
              "26547  15.344467  10.0\n",
              "\n",
              "[26548 rows x 2 columns]"
            ]
          },
          "metadata": {
            "tags": []
          },
          "execution_count": 60
        }
      ]
    },
    {
      "cell_type": "code",
      "metadata": {
        "id": "Emh3Kqce_mc2",
        "colab": {
          "base_uri": "https://localhost:8080/",
          "height": 283
        },
        "outputId": "d482df14-c219-4914-e861-acf1dd3219ec"
      },
      "source": [
        "compare.plot()"
      ],
      "execution_count": null,
      "outputs": [
        {
          "output_type": "execute_result",
          "data": {
            "text/plain": [
              "<matplotlib.axes._subplots.AxesSubplot at 0x7fd16f53f0f0>"
            ]
          },
          "metadata": {
            "tags": []
          },
          "execution_count": 61
        },
        {
          "output_type": "display_data",
          "data": {
            "image/png": "[encoded data removed]",
            "text/plain": [
              "<Figure size 432x288 with 1 Axes>"
            ]
          },
          "metadata": {
            "tags": [],
            "needs_background": "light"
          }
        }
      ]
    },
    {
      "cell_type": "code",
      "metadata": {
        "id": "i67o8oaU_pad",
        "colab": {
          "base_uri": "https://localhost:8080/",
          "height": 35
        },
        "outputId": "3570050b-156b-4fff-d814-442ea028d8e9"
      },
      "source": [
        "rmse = mean_squared_error(pre_dataframe,pd.DataFrame(testdata_y.reshape(-1)),squared=False)\n",
        "rmse"
      ],
      "execution_count": null,
      "outputs": [
        {
          "output_type": "execute_result",
          "data": {
            "text/plain": [
              "6.2388770704200205"
            ]
          },
          "metadata": {
            "tags": []
          },
          "execution_count": 29
        }
      ]
    },
    {
      "cell_type": "markdown",
      "metadata": {
        "id": "rtOzmy8MpnVa"
      },
      "source": [
        "# Model2"
      ]
    },
    {
      "cell_type": "markdown",
      "metadata": {
        "id": "yNUmGuVoA0SJ"
      },
      "source": [
        "Model2"
      ]
    },
    {
      "cell_type": "code",
      "metadata": {
        "id": "YDasmPM0A1Hi"
      },
      "source": [
        "inputs = keras.Input(shape=(look_back,11), name='Input')\n",
        "# inputs = keras.Input(shape=(look_back,12), name='Input') #Input include pm2.5\n",
        "lstm_hidden1 = CuDNNLSTM(48, return_sequences=True, name='lstm_hidden1')(inputs)\n",
        "lstm_hidden2 = CuDNNLSTM(48,return_sequences=True,name='lstm_hidden2')(lstm_hidden1)\n",
        "lstm_hidden3 = CuDNNLSTM(48,return_sequences=True,name='lstm_hidden3')(lstm_hidden2)\n",
        "lstm_hidden4 = CuDNNLSTM(48,return_sequences=True,name='lstm_hidden4')(lstm_hidden3)\n",
        "lstm_hidden5 = CuDNNLSTM(48,name='lstm_hidden5')(lstm_hidden4)\n",
        "dence_hidden1 = layers.Dense(12,activation='elu', name='dence_hidden1')(lstm_hidden5)\n",
        "dence_hidden2 = layers.Dense(12,activation='elu', name='dence_hidden2')(dence_hidden1)\n",
        "dence_hidden3 = layers.Dense(12,activation='elu', name='dence_hidden3')(dence_hidden2)\n",
        "outputs = layers.Dense(1, activation='elu', name='Output')(dence_hidden3)\n",
        "model2 = keras.Model(inputs=inputs, outputs=outputs)"
      ],
      "execution_count": null,
      "outputs": []
    },
    {
      "cell_type": "code",
      "metadata": {
        "id": "kwMOxaBbA7du",
        "colab": {
          "base_uri": "https://localhost:8080/",
          "height": 953
        },
        "outputId": "7a2c2101-97f7-41b3-b138-da648e5b5589"
      },
      "source": [
        "plot_model(model2)"
      ],
      "execution_count": null,
      "outputs": [
        {
          "output_type": "execute_result",
          "data": {
            "image/png": "[encoded data removed]",
            "text/plain": [
              "<IPython.core.display.Image object>"
            ]
          },
          "metadata": {
            "tags": []
          },
          "execution_count": 50
        }
      ]
    },
    {
      "cell_type": "code",
      "metadata": {
        "id": "3rmAi2sOA9Sb",
        "colab": {
          "base_uri": "https://localhost:8080/",
          "height": 493
        },
        "outputId": "46a78b51-ed90-426e-bdf0-67f8659a2ac7"
      },
      "source": [
        "model2.summary()"
      ],
      "execution_count": null,
      "outputs": [
        {
          "output_type": "stream",
          "text": [
            "Model: \"model_2\"\n",
            "_________________________________________________________________\n",
            "Layer (type)                 Output Shape              Param #   \n",
            "=================================================================\n",
            "Input (InputLayer)           [(None, 12, 11)]          0         \n",
            "_________________________________________________________________\n",
            "lstm_hidden1 (CuDNNLSTM)     (None, 12, 48)            11712     \n",
            "_________________________________________________________________\n",
            "lstm_hidden2 (CuDNNLSTM)     (None, 12, 48)            18816     \n",
            "_________________________________________________________________\n",
            "lstm_hidden3 (CuDNNLSTM)     (None, 12, 48)            18816     \n",
            "_________________________________________________________________\n",
            "lstm_hidden4 (CuDNNLSTM)     (None, 12, 48)            18816     \n",
            "_________________________________________________________________\n",
            "lstm_hidden5 (CuDNNLSTM)     (None, 48)                18816     \n",
            "_________________________________________________________________\n",
            "dence_hidden1 (Dense)        (None, 12)                588       \n",
            "_________________________________________________________________\n",
            "dence_hidden2 (Dense)        (None, 12)                156       \n",
            "_________________________________________________________________\n",
            "dence_hidden3 (Dense)        (None, 12)                156       \n",
            "_________________________________________________________________\n",
            "Output (Dense)               (None, 1)                 13        \n",
            "=================================================================\n",
            "Total params: 87,889\n",
            "Trainable params: 87,889\n",
            "Non-trainable params: 0\n",
            "_________________________________________________________________\n"
          ],
          "name": "stdout"
        }
      ]
    },
    {
      "cell_type": "code",
      "metadata": {
        "id": "iZ4e6ux4BANv",
        "colab": {
          "base_uri": "https://localhost:8080/",
          "height": 391
        },
        "outputId": "3e26ed58-608b-49e9-f491-e42c212f5f89"
      },
      "source": [
        "model2.compile(loss='mean_squared_error',optimizer='Adam',metrics=['mse'])\n",
        "history = model2.fit(traindata_x,traindata_y.reshape(26548,1), validation_split=0.2, epochs=10000,callbacks=callbacks,batch_size=24)"
      ],
      "execution_count": null,
      "outputs": [
        {
          "output_type": "stream",
          "text": [
            "Epoch 1/10000\n",
            "885/885 [==============================] - 15s 17ms/step - loss: 231.9051 - mse: 231.9051 - val_loss: 50.1001 - val_mse: 50.1001\n",
            "Epoch 2/10000\n",
            "885/885 [==============================] - 10s 11ms/step - loss: 69.7742 - mse: 69.7742 - val_loss: 57.7541 - val_mse: 57.7541\n",
            "Epoch 3/10000\n",
            "885/885 [==============================] - 10s 11ms/step - loss: 63.2188 - mse: 63.2188 - val_loss: 58.0520 - val_mse: 58.0520\n",
            "Epoch 4/10000\n",
            "885/885 [==============================] - 10s 11ms/step - loss: 58.2732 - mse: 58.2732 - val_loss: 56.6624 - val_mse: 56.6624\n",
            "Epoch 5/10000\n",
            "885/885 [==============================] - 10s 11ms/step - loss: 54.2663 - mse: 54.2663 - val_loss: 58.3146 - val_mse: 58.3146\n",
            "Epoch 6/10000\n",
            "885/885 [==============================] - 10s 11ms/step - loss: 51.1933 - mse: 51.1933 - val_loss: 66.1076 - val_mse: 66.1076\n",
            "Epoch 7/10000\n",
            "885/885 [==============================] - 10s 11ms/step - loss: 47.7099 - mse: 47.7099 - val_loss: 68.2365 - val_mse: 68.2365\n",
            "Epoch 8/10000\n",
            "885/885 [==============================] - 10s 12ms/step - loss: 45.0707 - mse: 45.0707 - val_loss: 51.9324 - val_mse: 51.9324\n",
            "Epoch 9/10000\n",
            "885/885 [==============================] - 10s 11ms/step - loss: 42.4565 - mse: 42.4565 - val_loss: 60.3068 - val_mse: 60.3068\n",
            "Epoch 10/10000\n",
            "885/885 [==============================] - 10s 11ms/step - loss: 39.9152 - mse: 39.9152 - val_loss: 59.5171 - val_mse: 59.5171\n",
            "Epoch 11/10000\n",
            "885/885 [==============================] - 10s 11ms/step - loss: 37.2673 - mse: 37.2673 - val_loss: 61.3602 - val_mse: 61.3602\n"
          ],
          "name": "stdout"
        }
      ]
    },
    {
      "cell_type": "code",
      "metadata": {
        "id": "54lfdivyBHnz",
        "colab": {
          "base_uri": "https://localhost:8080/",
          "height": 282
        },
        "outputId": "3cc76822-13e6-4aa9-93a6-d9e1ab7e91d9"
      },
      "source": [
        "pre_dataframe=pd.DataFrame(model2.predict(testdata_x),columns=['pre'])\n",
        "compare=pd.concat([pre_dataframe,pd.DataFrame(testdata_y.reshape(-1),columns=['act'])],axis=1)\n",
        "compare.plot()"
      ],
      "execution_count": null,
      "outputs": [
        {
          "output_type": "execute_result",
          "data": {
            "text/plain": [
              "<matplotlib.axes._subplots.AxesSubplot at 0x7f1506b0ba58>"
            ]
          },
          "metadata": {
            "tags": []
          },
          "execution_count": 53
        },
        {
          "output_type": "display_data",
          "data": {
            "image/png": "[encoded data removed]",
            "text/plain": [
              "<Figure size 432x288 with 1 Axes>"
            ]
          },
          "metadata": {
            "tags": [],
            "needs_background": "light"
          }
        }
      ]
    },
    {
      "cell_type": "code",
      "metadata": {
        "id": "z8LobMyhDta2",
        "colab": {
          "base_uri": "https://localhost:8080/",
          "height": 34
        },
        "outputId": "629f9bb8-dc93-49d0-ae33-1352b0a736ec"
      },
      "source": [
        "rmse = mean_squared_error(pre_dataframe,pd.DataFrame(testdata_y.reshape(-1)),squared=False)\n",
        "rmse"
      ],
      "execution_count": null,
      "outputs": [
        {
          "output_type": "execute_result",
          "data": {
            "text/plain": [
              "6.258527132436798"
            ]
          },
          "metadata": {
            "tags": []
          },
          "execution_count": 54
        }
      ]
    },
    {
      "cell_type": "code",
      "metadata": {
        "id": "2ZSrSCepEIdZ",
        "colab": {
          "base_uri": "https://localhost:8080/",
          "height": 265
        },
        "outputId": "3ea3fa0c-458a-4b62-d179-434135af5d9d"
      },
      "source": [
        "plt.plot(history.history['loss'], label='train')\n",
        "plt.plot(history.history['val_loss'], label='test')\n",
        "plt.legend()\n",
        "plt.show()"
      ],
      "execution_count": null,
      "outputs": [
        {
          "output_type": "display_data",
          "data": {
            "image/png": "[encoded data removed]",
            "text/plain": [
              "<Figure size 432x288 with 1 Axes>"
            ]
          },
          "metadata": {
            "tags": [],
            "needs_background": "light"
          }
        }
      ]
    },
    {
      "cell_type": "markdown",
      "metadata": {
        "id": "laqMgxttqazs"
      },
      "source": [
        "# Model3"
      ]
    },
    {
      "cell_type": "markdown",
      "metadata": {
        "id": "De4YJ2F0kPpt"
      },
      "source": [
        "**Model3**"
      ]
    },
    {
      "cell_type": "code",
      "metadata": {
        "id": "i1lHEAa0FUff"
      },
      "source": [
        "inputs = keras.Input(shape=(look_back,11), name='Input')\n",
        "lstm_hidden1 = CuDNNLSTM(48, return_sequences=True, name='lstm_hidden1')(inputs)\n",
        "drop1 = layers.Dropout(0.2)(lstm_hidden1)\n",
        "lstm_hidden2 = CuDNNLSTM(48, name='lstm_hidden2')(lstm_hidden1)\n",
        "drop2 = layers.Dropout(0.2)(lstm_hidden2)\n",
        "batch_normalization1 = BatchNormalization()(lstm_hidden2)\n",
        "dence_hidden3 = layers.Dense(12,activation='relu',name='dence_hidden3')(batch_normalization1)\n",
        "dence_hidden4 = layers.Dense(12,activation='relu', name='dence_hidden4')(dence_hidden3)\n",
        "outputs = layers.Dense(1, activation='relu', name='Output')(dence_hidden4)\n",
        "model3 = keras.Model(inputs=inputs, outputs=outputs)"
      ],
      "execution_count": null,
      "outputs": []
    },
    {
      "cell_type": "code",
      "metadata": {
        "id": "YXjy9bfZkSxi",
        "colab": {
          "base_uri": "https://localhost:8080/",
          "height": 661
        },
        "outputId": "054c22de-5d20-44c9-ecaa-8d3ba7abb93d"
      },
      "source": [
        "plot_model(model3)"
      ],
      "execution_count": null,
      "outputs": [
        {
          "output_type": "execute_result",
          "data": {
            "image/png": "[encoded data removed]",
            "text/plain": [
              "<IPython.core.display.Image object>"
            ]
          },
          "metadata": {
            "tags": []
          },
          "execution_count": 57
        }
      ]
    },
    {
      "cell_type": "code",
      "metadata": {
        "id": "mjusALFw6v8L",
        "colab": {
          "base_uri": "https://localhost:8080/",
          "height": 391
        },
        "outputId": "fc0fc569-fad1-4b2c-f63a-b3b3ad3c91a2"
      },
      "source": [
        "model3.summary()"
      ],
      "execution_count": null,
      "outputs": [
        {
          "output_type": "stream",
          "text": [
            "Model: \"model_3\"\n",
            "_________________________________________________________________\n",
            "Layer (type)                 Output Shape              Param #   \n",
            "=================================================================\n",
            "Input (InputLayer)           [(None, 12, 11)]          0         \n",
            "_________________________________________________________________\n",
            "lstm_hidden1 (CuDNNLSTM)     (None, 12, 48)            11712     \n",
            "_________________________________________________________________\n",
            "lstm_hidden2 (CuDNNLSTM)     (None, 48)                18816     \n",
            "_________________________________________________________________\n",
            "batch_normalization (BatchNo (None, 48)                192       \n",
            "_________________________________________________________________\n",
            "dence_hidden3 (Dense)        (None, 12)                588       \n",
            "_________________________________________________________________\n",
            "dence_hidden4 (Dense)        (None, 12)                156       \n",
            "_________________________________________________________________\n",
            "Output (Dense)               (None, 1)                 13        \n",
            "=================================================================\n",
            "Total params: 31,477\n",
            "Trainable params: 31,381\n",
            "Non-trainable params: 96\n",
            "_________________________________________________________________\n"
          ],
          "name": "stdout"
        }
      ]
    },
    {
      "cell_type": "code",
      "metadata": {
        "id": "jmsAOUpjkdcf",
        "colab": {
          "base_uri": "https://localhost:8080/",
          "height": 425
        },
        "outputId": "93408d42-ef25-4e15-fe3f-9b292c01492f"
      },
      "source": [
        "model3.compile(loss='mean_squared_error',optimizer='Adam',metrics=['mse'])\n",
        "history = model3.fit(traindata_x,traindata_y.reshape(26548,1), validation_split=0.2, epochs=10000,callbacks=callbacks,batch_size=24)\n",
        "result = model3.evaluate(traindata_x,traindata_y)\n",
        "result[1]"
      ],
      "execution_count": null,
      "outputs": [
        {
          "output_type": "stream",
          "text": [
            "Epoch 1/10000\n",
            "885/885 [==============================] - 8s 9ms/step - loss: 165.1760 - mse: 165.1760 - val_loss: 52.4212 - val_mse: 52.4212\n",
            "Epoch 2/10000\n",
            "885/885 [==============================] - 6s 7ms/step - loss: 82.7273 - mse: 82.7273 - val_loss: 65.7423 - val_mse: 65.7423\n",
            "Epoch 3/10000\n",
            "885/885 [==============================] - 6s 7ms/step - loss: 71.2977 - mse: 71.2977 - val_loss: 88.8673 - val_mse: 88.8673\n",
            "Epoch 4/10000\n",
            "885/885 [==============================] - 6s 7ms/step - loss: 66.4597 - mse: 66.4597 - val_loss: 61.7955 - val_mse: 61.7955\n",
            "Epoch 5/10000\n",
            "885/885 [==============================] - 6s 7ms/step - loss: 62.0026 - mse: 62.0026 - val_loss: 74.1783 - val_mse: 74.1783\n",
            "Epoch 6/10000\n",
            "885/885 [==============================] - 6s 7ms/step - loss: 58.0131 - mse: 58.0131 - val_loss: 63.9309 - val_mse: 63.9309\n",
            "Epoch 7/10000\n",
            "885/885 [==============================] - 6s 7ms/step - loss: 55.1627 - mse: 55.1627 - val_loss: 72.3783 - val_mse: 72.3783\n",
            "Epoch 8/10000\n",
            "885/885 [==============================] - 6s 7ms/step - loss: 51.1138 - mse: 51.1138 - val_loss: 67.9282 - val_mse: 67.9282\n",
            "Epoch 9/10000\n",
            "885/885 [==============================] - 6s 7ms/step - loss: 48.7440 - mse: 48.7440 - val_loss: 73.7580 - val_mse: 73.7580\n",
            "Epoch 10/10000\n",
            "885/885 [==============================] - 6s 7ms/step - loss: 46.3443 - mse: 46.3443 - val_loss: 74.0573 - val_mse: 74.0573\n",
            "Epoch 11/10000\n",
            "885/885 [==============================] - 6s 7ms/step - loss: 44.4092 - mse: 44.4092 - val_loss: 70.4755 - val_mse: 70.4755\n",
            "830/830 [==============================] - 3s 3ms/step - loss: 45.5677 - mse: 45.5677\n"
          ],
          "name": "stdout"
        },
        {
          "output_type": "execute_result",
          "data": {
            "text/plain": [
              "45.567726135253906"
            ]
          },
          "metadata": {
            "tags": []
          },
          "execution_count": 58
        }
      ]
    },
    {
      "cell_type": "code",
      "metadata": {
        "id": "Q_TYdswZlKpy",
        "colab": {
          "base_uri": "https://localhost:8080/",
          "height": 282
        },
        "outputId": "61184422-a354-4136-f51e-1efd58f5dc54"
      },
      "source": [
        "pre_dataframe=pd.DataFrame(model3.predict(testdata_x),columns=['pre'])\n",
        "compare=pd.concat([pre_dataframe,pd.DataFrame(testdata_y.reshape(-1),columns=['act'])],axis=1)\n",
        "compare.plot()"
      ],
      "execution_count": null,
      "outputs": [
        {
          "output_type": "execute_result",
          "data": {
            "text/plain": [
              "<matplotlib.axes._subplots.AxesSubplot at 0x7f14dc76c588>"
            ]
          },
          "metadata": {
            "tags": []
          },
          "execution_count": 59
        },
        {
          "output_type": "display_data",
          "data": {
            "image/png": "[encoded data removed]",
            "text/plain": [
              "<Figure size 432x288 with 1 Axes>"
            ]
          },
          "metadata": {
            "tags": [],
            "needs_background": "light"
          }
        }
      ]
    },
    {
      "cell_type": "code",
      "metadata": {
        "id": "IOKsztNKlcYv",
        "colab": {
          "base_uri": "https://localhost:8080/",
          "height": 34
        },
        "outputId": "608b7618-dd11-4207-8f49-9512704c39a8"
      },
      "source": [
        "rmse = mean_squared_error(pre_dataframe,pd.DataFrame(testdata_y.reshape(-1)),squared=False)\n",
        "rmse"
      ],
      "execution_count": null,
      "outputs": [
        {
          "output_type": "execute_result",
          "data": {
            "text/plain": [
              "6.750388780489759"
            ]
          },
          "metadata": {
            "tags": []
          },
          "execution_count": 60
        }
      ]
    },
    {
      "cell_type": "code",
      "metadata": {
        "id": "kmjgDvWslc3g",
        "colab": {
          "base_uri": "https://localhost:8080/",
          "height": 265
        },
        "outputId": "4a65f07a-76bd-4c39-e863-dda19aa1985b"
      },
      "source": [
        "plt.plot(history.history['loss'], label='train')\n",
        "plt.plot(history.history['val_loss'], label='test')\n",
        "plt.legend()\n",
        "plt.show()"
      ],
      "execution_count": null,
      "outputs": [
        {
          "output_type": "display_data",
          "data": {
            "image/png": "[encoded data removed]",
            "text/plain": [
              "<Figure size 432x288 with 1 Axes>"
            ]
          },
          "metadata": {
            "tags": [],
            "needs_background": "light"
          }
        }
      ]
    },
    {
      "cell_type": "code",
      "metadata": {
        "id": "bO7-M3-0lxTi"
      },
      "source": [
        ""
      ],
      "execution_count": null,
      "outputs": []
    },
    {
      "cell_type": "markdown",
      "metadata": {
        "id": "iinCHUwk8Sq7"
      },
      "source": [
        "# Model4"
      ]
    },
    {
      "cell_type": "code",
      "metadata": {
        "id": "O_6l1ObW8Wac"
      },
      "source": [
        "inputs=keras.Input(shape=(look_back,11),name='Input')\n",
        "gru_hidden1=CuDNNGRU(48,return_sequences=True,name='gru_hidden1')(inputs)\n",
        "gru_hidden2=CuDNNGRU(48,name='gru_hidden2')(gru_hidden1)\n",
        "dence_hidden3=layers.Dense(12,activation='relu',name='dence_hidden3')(gru_hidden2)\n",
        "outputs=layers.Dense(1,activation='relu',name='Output')(dence_hidden3)\n",
        "model4 = keras.Model(inputs=inputs,outputs=outputs)"
      ],
      "execution_count": null,
      "outputs": []
    },
    {
      "cell_type": "code",
      "metadata": {
        "id": "Ca97U15F88Gf",
        "colab": {
          "base_uri": "https://localhost:8080/",
          "height": 466
        },
        "outputId": "2aed25c5-e06e-47b9-c8b6-9dff3e3b0899"
      },
      "source": [
        "plot_model(model4)"
      ],
      "execution_count": null,
      "outputs": [
        {
          "output_type": "execute_result",
          "data": {
            "image/png": "[encoded data removed]",
            "text/plain": [
              "<IPython.core.display.Image object>"
            ]
          },
          "metadata": {
            "tags": []
          },
          "execution_count": 64
        }
      ]
    },
    {
      "cell_type": "code",
      "metadata": {
        "id": "jrOBoEdw9Bz9",
        "colab": {
          "base_uri": "https://localhost:8080/",
          "height": 323
        },
        "outputId": "79f93164-1666-4b4b-8111-9d6fa405d03f"
      },
      "source": [
        "model4.summary()"
      ],
      "execution_count": null,
      "outputs": [
        {
          "output_type": "stream",
          "text": [
            "Model: \"model_4\"\n",
            "_________________________________________________________________\n",
            "Layer (type)                 Output Shape              Param #   \n",
            "=================================================================\n",
            "Input (InputLayer)           [(None, 12, 11)]          0         \n",
            "_________________________________________________________________\n",
            "gru_hidden1 (CuDNNGRU)       (None, 12, 48)            8784      \n",
            "_________________________________________________________________\n",
            "gru_hidden2 (CuDNNGRU)       (None, 48)                14112     \n",
            "_________________________________________________________________\n",
            "dence_hidden3 (Dense)        (None, 12)                588       \n",
            "_________________________________________________________________\n",
            "Output (Dense)               (None, 1)                 13        \n",
            "=================================================================\n",
            "Total params: 23,497\n",
            "Trainable params: 23,497\n",
            "Non-trainable params: 0\n",
            "_________________________________________________________________\n"
          ],
          "name": "stdout"
        }
      ]
    },
    {
      "cell_type": "code",
      "metadata": {
        "id": "n_P8BYrJ9Ho0",
        "colab": {
          "base_uri": "https://localhost:8080/",
          "height": 527
        },
        "outputId": "19a6c513-755d-4f93-beeb-3fe64aaba219"
      },
      "source": [
        "model4.compile(loss='mean_squared_error',optimizer='Adam',metrics=['mse'])\n",
        "history = model4.fit(traindata_x,traindata_y.reshape(26548,1), validation_split=0.2, epochs=10000,callbacks=callbacks,batch_size=24)"
      ],
      "execution_count": null,
      "outputs": [
        {
          "output_type": "stream",
          "text": [
            "Epoch 1/10000\n",
            "885/885 [==============================] - 14s 16ms/step - loss: 171.4366 - mse: 171.4366 - val_loss: 53.0899 - val_mse: 53.0899\n",
            "Epoch 2/10000\n",
            "885/885 [==============================] - 6s 7ms/step - loss: 68.2911 - mse: 68.2911 - val_loss: 61.2098 - val_mse: 61.2098\n",
            "Epoch 3/10000\n",
            "885/885 [==============================] - 6s 6ms/step - loss: 63.3692 - mse: 63.3692 - val_loss: 61.8695 - val_mse: 61.8695\n",
            "Epoch 4/10000\n",
            "885/885 [==============================] - 6s 6ms/step - loss: 60.2997 - mse: 60.2997 - val_loss: 50.1237 - val_mse: 50.1237\n",
            "Epoch 5/10000\n",
            "885/885 [==============================] - 6s 6ms/step - loss: 57.2628 - mse: 57.2628 - val_loss: 48.2073 - val_mse: 48.2073\n",
            "Epoch 6/10000\n",
            "885/885 [==============================] - 6s 6ms/step - loss: 54.3526 - mse: 54.3526 - val_loss: 65.0284 - val_mse: 65.0284\n",
            "Epoch 7/10000\n",
            "885/885 [==============================] - 6s 6ms/step - loss: 51.2400 - mse: 51.2400 - val_loss: 63.5038 - val_mse: 63.5038\n",
            "Epoch 8/10000\n",
            "885/885 [==============================] - 6s 6ms/step - loss: 48.1324 - mse: 48.1324 - val_loss: 63.3516 - val_mse: 63.3516\n",
            "Epoch 9/10000\n",
            "885/885 [==============================] - 6s 6ms/step - loss: 45.6743 - mse: 45.6743 - val_loss: 63.9399 - val_mse: 63.9399\n",
            "Epoch 10/10000\n",
            "885/885 [==============================] - 6s 6ms/step - loss: 43.2260 - mse: 43.2260 - val_loss: 57.0060 - val_mse: 57.0060\n",
            "Epoch 11/10000\n",
            "885/885 [==============================] - 6s 6ms/step - loss: 41.1729 - mse: 41.1729 - val_loss: 62.0254 - val_mse: 62.0254\n",
            "Epoch 12/10000\n",
            "885/885 [==============================] - 6s 6ms/step - loss: 39.1036 - mse: 39.1036 - val_loss: 63.6034 - val_mse: 63.6034\n",
            "Epoch 13/10000\n",
            "885/885 [==============================] - 6s 6ms/step - loss: 37.4228 - mse: 37.4228 - val_loss: 64.6100 - val_mse: 64.6100\n",
            "Epoch 14/10000\n",
            "885/885 [==============================] - 6s 6ms/step - loss: 35.6027 - mse: 35.6027 - val_loss: 59.5491 - val_mse: 59.5491\n",
            "Epoch 15/10000\n",
            "885/885 [==============================] - 6s 6ms/step - loss: 33.7204 - mse: 33.7204 - val_loss: 69.7367 - val_mse: 69.7367\n"
          ],
          "name": "stdout"
        }
      ]
    },
    {
      "cell_type": "code",
      "metadata": {
        "id": "rEEbvzJ49OZv"
      },
      "source": [
        "pre_dataframe=pd.DataFrame(model.predict(testdata_x).reshape(-1),columns=['pre'])"
      ],
      "execution_count": null,
      "outputs": []
    },
    {
      "cell_type": "code",
      "metadata": {
        "id": "YdxH_wVm9VrC"
      },
      "source": [
        "compare=pd.concat([pre_dataframe,pd.DataFrame(testdata_y.reshape(-1),columns=['act'])],axis=1)"
      ],
      "execution_count": null,
      "outputs": []
    },
    {
      "cell_type": "code",
      "metadata": {
        "id": "biwIAPcn9X_c",
        "colab": {
          "base_uri": "https://localhost:8080/",
          "height": 419
        },
        "outputId": "09b9f57a-847b-4c10-fc04-cf41786498f7"
      },
      "source": [
        "compare"
      ],
      "execution_count": null,
      "outputs": [
        {
          "output_type": "execute_result",
          "data": {
            "text/html": [
              "<div>\n",
              "<style scoped>\n",
              "    .dataframe tbody tr th:only-of-type {\n",
              "        vertical-align: middle;\n",
              "    }\n",
              "\n",
              "    .dataframe tbody tr th {\n",
              "        vertical-align: top;\n",
              "    }\n",
              "\n",
              "    .dataframe thead th {\n",
              "        text-align: right;\n",
              "    }\n",
              "</style>\n",
              "<table border=\"1\" class=\"dataframe\">\n",
              "  <thead>\n",
              "    <tr style=\"text-align: right;\">\n",
              "      <th></th>\n",
              "      <th>pre</th>\n",
              "      <th>act</th>\n",
              "    </tr>\n",
              "  </thead>\n",
              "  <tbody>\n",
              "    <tr>\n",
              "      <th>0</th>\n",
              "      <td>47.453526</td>\n",
              "      <td>52.0</td>\n",
              "    </tr>\n",
              "    <tr>\n",
              "      <th>1</th>\n",
              "      <td>43.572758</td>\n",
              "      <td>44.0</td>\n",
              "    </tr>\n",
              "    <tr>\n",
              "      <th>2</th>\n",
              "      <td>42.418575</td>\n",
              "      <td>47.0</td>\n",
              "    </tr>\n",
              "    <tr>\n",
              "      <th>3</th>\n",
              "      <td>45.871494</td>\n",
              "      <td>41.0</td>\n",
              "    </tr>\n",
              "    <tr>\n",
              "      <th>4</th>\n",
              "      <td>44.196850</td>\n",
              "      <td>43.0</td>\n",
              "    </tr>\n",
              "    <tr>\n",
              "      <th>...</th>\n",
              "      <td>...</td>\n",
              "      <td>...</td>\n",
              "    </tr>\n",
              "    <tr>\n",
              "      <th>26543</th>\n",
              "      <td>19.300505</td>\n",
              "      <td>6.0</td>\n",
              "    </tr>\n",
              "    <tr>\n",
              "      <th>26544</th>\n",
              "      <td>15.962386</td>\n",
              "      <td>6.0</td>\n",
              "    </tr>\n",
              "    <tr>\n",
              "      <th>26545</th>\n",
              "      <td>19.648438</td>\n",
              "      <td>5.0</td>\n",
              "    </tr>\n",
              "    <tr>\n",
              "      <th>26546</th>\n",
              "      <td>16.641350</td>\n",
              "      <td>8.0</td>\n",
              "    </tr>\n",
              "    <tr>\n",
              "      <th>26547</th>\n",
              "      <td>18.292185</td>\n",
              "      <td>10.0</td>\n",
              "    </tr>\n",
              "  </tbody>\n",
              "</table>\n",
              "<p>26548 rows × 2 columns</p>\n",
              "</div>"
            ],
            "text/plain": [
              "             pre   act\n",
              "0      47.453526  52.0\n",
              "1      43.572758  44.0\n",
              "2      42.418575  47.0\n",
              "3      45.871494  41.0\n",
              "4      44.196850  43.0\n",
              "...          ...   ...\n",
              "26543  19.300505   6.0\n",
              "26544  15.962386   6.0\n",
              "26545  19.648438   5.0\n",
              "26546  16.641350   8.0\n",
              "26547  18.292185  10.0\n",
              "\n",
              "[26548 rows x 2 columns]"
            ]
          },
          "metadata": {
            "tags": []
          },
          "execution_count": 69
        }
      ]
    },
    {
      "cell_type": "code",
      "metadata": {
        "id": "iHBUKjgn9aIK",
        "colab": {
          "base_uri": "https://localhost:8080/",
          "height": 282
        },
        "outputId": "07539e24-f318-43e2-ac8f-5e96e9408797"
      },
      "source": [
        "compare.plot()"
      ],
      "execution_count": null,
      "outputs": [
        {
          "output_type": "execute_result",
          "data": {
            "text/plain": [
              "<matplotlib.axes._subplots.AxesSubplot at 0x7f14da9eaa58>"
            ]
          },
          "metadata": {
            "tags": []
          },
          "execution_count": 70
        },
        {
          "output_type": "display_data",
          "data": {
            "image/png": "[encoded data removed]",
            "text/plain": [
              "<Figure size 432x288 with 1 Axes>"
            ]
          },
          "metadata": {
            "tags": [],
            "needs_background": "light"
          }
        }
      ]
    },
    {
      "cell_type": "code",
      "metadata": {
        "id": "hgJC7itA9ccN",
        "colab": {
          "base_uri": "https://localhost:8080/",
          "height": 34
        },
        "outputId": "9cd64988-48b0-473c-898b-01738f925ba4"
      },
      "source": [
        "rmse = mean_squared_error(pre_dataframe,pd.DataFrame(testdata_y.reshape(-1)),squared=False)\n",
        "rmse"
      ],
      "execution_count": null,
      "outputs": [
        {
          "output_type": "execute_result",
          "data": {
            "text/plain": [
              "6.444750315728566"
            ]
          },
          "metadata": {
            "tags": []
          },
          "execution_count": 71
        }
      ]
    },
    {
      "cell_type": "code",
      "metadata": {
        "id": "fbSDKImF9yvi",
        "colab": {
          "base_uri": "https://localhost:8080/",
          "height": 281
        },
        "outputId": "08484989-38ba-4d06-e35d-134689e288cb"
      },
      "source": [
        "plt.plot(history.history['loss'], label='train')\n",
        "plt.plot(history.history['val_loss'], label='test')\n",
        "plt.title(\"Training Loss\")\n",
        "plt.legend()\n",
        "plt.show()"
      ],
      "execution_count": null,
      "outputs": [
        {
          "output_type": "display_data",
          "data": {
            "image/png": "[encoded data removed]",
            "text/plain": [
              "<Figure size 432x288 with 1 Axes>"
            ]
          },
          "metadata": {
            "tags": [],
            "needs_background": "light"
          }
        }
      ]
    },
    {
      "cell_type": "code",
      "metadata": {
        "id": "00-csaJ49_1I"
      },
      "source": [
        ""
      ],
      "execution_count": null,
      "outputs": []
    }
  ]
}